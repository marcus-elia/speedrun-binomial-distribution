{
 "cells": [
  {
   "cell_type": "markdown",
   "metadata": {},
   "source": [
    "#### Import Statements"
   ]
  },
  {
   "cell_type": "code",
   "execution_count": 1,
   "metadata": {},
   "outputs": [],
   "source": [
    "import numpy as np\n",
    "import matplotlib.pyplot as plt"
   ]
  },
  {
   "cell_type": "markdown",
   "metadata": {},
   "source": [
    "## Functions to perform simulations"
   ]
  },
  {
   "cell_type": "code",
   "execution_count": 2,
   "metadata": {},
   "outputs": [],
   "source": [
    "# Helper functions for run_trial()\n",
    "def choose_random_num_successes_needed(num_successes_needed2prob):\n",
    "    r = np.random.random()\n",
    "    current_prob = 0\n",
    "    for n in num_successes_needed2prob:\n",
    "        current_prob += num_successes_needed2prob[n]\n",
    "        if r < current_prob:\n",
    "            return n\n",
    "    raise ValueError(\"Did not select a num_successes_needed\")"
   ]
  },
  {
   "cell_type": "code",
   "execution_count": 3,
   "metadata": {},
   "outputs": [],
   "source": [
    "def run_trial(num_speedruns, num_successes_needed2prob, success_prob, death_prob):\n",
    "    \"\"\"\n",
    "    Arguments:\n",
    "    num_speedruns = how many speedruns are performed for this trial\n",
    "    num_successes_needed2prob = a dictionary mapping the number of successes needed to finish a speedrun\n",
    "                                to the probability of that number being the one used on a speedrun\n",
    "    success_prob = the probability of success for a single outcome\n",
    "    death_prob = the probability of dying after each event\n",
    "    \n",
    "    Returns:\n",
    "    Returns a tuple (num_successes, num_events)\n",
    "    \"\"\"\n",
    "    total_num_successes = 0\n",
    "    total_num_events = 0\n",
    "    \n",
    "    # Make sure the probabilities of the num_successes_needed adds to 1\n",
    "    if sum(num_successes_needed2prob.values()) != 1:\n",
    "        raise ValueError(\"Probabilities of num_successes_needed do not sum to 1\")\n",
    "    \n",
    "    for _ in range(num_speedruns):\n",
    "        k = choose_random_num_successes_needed(num_successes_needed2prob)\n",
    "        num_successes = 0\n",
    "        num_events = 0\n",
    "        \n",
    "        # Perform the event until k successes happen\n",
    "        while num_successes < k:\n",
    "            outcome = np.random.random()\n",
    "            if outcome < success_prob:\n",
    "                num_successes += 1\n",
    "            num_events += 1\n",
    "            possible_death = np.random.random()\n",
    "            if possible_death < death_prob:\n",
    "                break\n",
    "        \n",
    "        total_num_successes += num_successes\n",
    "        total_num_events += num_events\n",
    "    \n",
    "    return (total_num_successes, total_num_events)"
   ]
  },
  {
   "cell_type": "code",
   "execution_count": 11,
   "metadata": {},
   "outputs": [],
   "source": [
    "def run_simulation(num_trials, num_speedruns_per_trial, num_successes_needed2prob, success_prob, death_prob):\n",
    "    \"\"\"\n",
    "    Arguments:\n",
    "    num_trials = total number of trials to do\n",
    "    num_speedruns_per_trial = how many speedruns are performed for each trial\n",
    "    num_successes_needed2prob = a dictionary mapping the number of successes needed to finish a speedrun\n",
    "                                to the probability of that number being the one used on a speedrun\n",
    "    success_prob = the probability of success for a single outcome\n",
    "    death_prob = the probability of dying after each event\n",
    "    \n",
    "    Returns:\n",
    "    Returns a list of proportions (successes/events)\n",
    "    \"\"\"\n",
    "    proportions = []\n",
    "    for _ in range(num_trials):\n",
    "        result = run_trial(num_speedruns_per_trial, num_successes_needed2prob, success_prob, death_prob)\n",
    "        proportion = result[0] / float(result[1])\n",
    "        proportions.append(proportion)\n",
    "    \n",
    "    return proportions"
   ]
  },
  {
   "cell_type": "markdown",
   "metadata": {},
   "source": [
    "## Simulating Blaze Data"
   ]
  },
  {
   "cell_type": "code",
   "execution_count": null,
   "metadata": {},
   "outputs": [],
   "source": [
    "num_trials = 1000\n",
    "\n",
    "# These match Dream's data from the 6 livestreams\n",
    "num_speedruns_per_trial = "
   ]
  }
 ],
 "metadata": {
  "kernelspec": {
   "display_name": "Python 3",
   "language": "python",
   "name": "python3"
  },
  "language_info": {
   "codemirror_mode": {
    "name": "ipython",
    "version": 3
   },
   "file_extension": ".py",
   "mimetype": "text/x-python",
   "name": "python",
   "nbconvert_exporter": "python",
   "pygments_lexer": "ipython3",
   "version": "3.8.3"
  }
 },
 "nbformat": 4,
 "nbformat_minor": 4
}
