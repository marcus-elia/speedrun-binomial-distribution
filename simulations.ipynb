{
 "cells": [
  {
   "cell_type": "markdown",
   "metadata": {},
   "source": [
    "# Can the Binomial Distribution be used to calculate how lucky Dream was?\n",
    "\n",
    "Many have used the binomial distribution to estimate the probability that Dream got as lucky as he did (https://www.youtube.com/watch?v=-MYw9LcLCb4, https://www.youtube.com/watch?v=8Ko3TdPy0TU, https://www.youtube.com/watch?v=rbhx3UNpV64). But Dream's astrophysicist argues that the binomial distribution cannot be applied because the events are not independent.  He acknowledges that the outcome of one event does not affect the outcome of another event (\"For example, the fact that the previous barter was an ender pearl doesn’t affect the probability on the next barter.\") However, he correctly points out that number of events is dependent on whether earlier events were successful or not. For example, Dream killed 305 blazes and had 211 blaze rod drops. The 305th kill dropped a blaze rod. But one could argue that he would have not killed the 305th blaze if the 304th blaze had dropped a rod. So the number of events is not independent of the outcomes. This is even more noticeable when considering piglin bartering, because it is more likely to see many barters happen in between successes.\n",
    "This potentially means that the binomial distribution does not apply.  It seems likely that the binomial distribution will be very close to modeling the true probability, but I want to know how close. I am going to investigate this with simulations. The simulations will approximate Dream's behavior (killing blazes 33 times, choosing to stop at either 6, 7, or 8 rods as often as he did, dying as often as he did, and the same thing with ender pearls). I will run 500,000 of these simulations to see the distribution of the proportion of blazes that dropped rods. Then, to simulate the binomial distribution, the simulation will kill 305 blazes and see what proportion of blaze rods are dropped. To check whether the binomial distribution approximates the speedrun distribution, I will overlay the histograms and see what they look like. If the speedrun distribution has a significantly larger tail than the binomial distribution, then it might be incorrect for everyone to use the binomial distribution in this situation."
   ]
  },
  {
   "cell_type": "markdown",
   "metadata": {},
   "source": [
    "#### Import Statements"
   ]
  },
  {
   "cell_type": "code",
   "execution_count": 1,
   "metadata": {},
   "outputs": [],
   "source": [
    "import numpy as np\n",
    "import matplotlib.pyplot as plt\n",
    "import pandas as pd"
   ]
  },
  {
   "cell_type": "markdown",
   "metadata": {},
   "source": [
    "## Functions to Perform Simulations"
   ]
  },
  {
   "cell_type": "markdown",
   "metadata": {},
   "source": [
    "### Simulating Minecraft Speedruns"
   ]
  },
  {
   "cell_type": "code",
   "execution_count": 2,
   "metadata": {},
   "outputs": [],
   "source": [
    "# Helper functions for run_trial()\n",
    "def choose_random_num_successes_needed(num_successes_needed2prob):\n",
    "    r = np.random.random()\n",
    "    current_prob = 0\n",
    "    for n in num_successes_needed2prob:\n",
    "        current_prob += num_successes_needed2prob[n]\n",
    "        if r < current_prob:\n",
    "            return n\n",
    "    raise ValueError(\"Did not select a num_successes_needed\")"
   ]
  },
  {
   "cell_type": "code",
   "execution_count": 3,
   "metadata": {},
   "outputs": [],
   "source": [
    "def run_trial(num_speedruns, num_successes_needed2prob, success_prob, death_prob):\n",
    "    \"\"\"\n",
    "    Arguments\n",
    "    =========\n",
    "    num_speedruns = how many speedruns are performed for this trial\n",
    "    num_successes_needed2prob = a dictionary mapping the number of successes needed to finish a speedrun\n",
    "                                to the probability of that number being the one used on a speedrun\n",
    "    success_prob = the probability of success for a single outcome\n",
    "    death_prob = the probability of dying after each event\n",
    "    \n",
    "    Returns\n",
    "    =======\n",
    "    Returns a tuple (num_successes, num_events)\n",
    "    \"\"\"\n",
    "    total_num_successes = 0\n",
    "    total_num_events = 0\n",
    "    \n",
    "    # Make sure the probabilities of the num_successes_needed adds to 1\n",
    "    if np.abs(sum(num_successes_needed2prob.values()) - 1) > 0.01:\n",
    "        raise ValueError(\"Probabilities of num_successes_needed do not sum to 1\")\n",
    "    \n",
    "    for _ in range(num_speedruns):\n",
    "        k = choose_random_num_successes_needed(num_successes_needed2prob)\n",
    "        num_successes = 0\n",
    "        num_events = 0\n",
    "        \n",
    "        # Perform the event until k successes happen\n",
    "        while num_successes < k:\n",
    "            outcome = np.random.random()\n",
    "            if outcome < success_prob:\n",
    "                num_successes += 1\n",
    "            num_events += 1\n",
    "            \n",
    "            # If the player dies, stop early\n",
    "            possible_death = np.random.random()\n",
    "            if possible_death < death_prob:\n",
    "                break\n",
    "        \n",
    "        total_num_successes += num_successes\n",
    "        total_num_events += num_events\n",
    "    \n",
    "    return (total_num_successes, total_num_events)"
   ]
  },
  {
   "cell_type": "code",
   "execution_count": 4,
   "metadata": {},
   "outputs": [],
   "source": [
    "def run_simulation(num_trials, num_speedruns_per_trial, num_successes_needed2prob, success_prob, death_prob):\n",
    "    \"\"\"\n",
    "    Arguments\n",
    "    =========\n",
    "    num_trials = total number of trials to do\n",
    "    num_speedruns_per_trial = how many speedruns are performed for each trial\n",
    "    num_successes_needed2prob = a dictionary mapping the number of successes needed to finish a speedrun\n",
    "                                to the probability of that number being the one used on a speedrun\n",
    "    success_prob = the probability of success for a single outcome\n",
    "    death_prob = the probability of dying after each event\n",
    "    \n",
    "    Returns\n",
    "    =======\n",
    "    Returns a list of proportions (successes/events)\n",
    "    \"\"\"\n",
    "    proportions = []\n",
    "    for _ in range(num_trials):\n",
    "        result = run_trial(num_speedruns_per_trial, num_successes_needed2prob, success_prob, death_prob)\n",
    "        proportion = result[0] / float(result[1])\n",
    "        proportions.append(proportion)\n",
    "    \n",
    "    return proportions"
   ]
  },
  {
   "cell_type": "markdown",
   "metadata": {},
   "source": [
    "### Binomial Distribution Simulations"
   ]
  },
  {
   "cell_type": "code",
   "execution_count": 5,
   "metadata": {},
   "outputs": [],
   "source": [
    "def run_binomial_trial(num_events, success_prob):\n",
    "    \"\"\"\n",
    "    Arguments\n",
    "    =========\n",
    "    num_events = the number of random events to do\n",
    "    success_prob = probability of success of any event\n",
    "    \n",
    "    Returns\n",
    "    =======\n",
    "    Returns tuple (num_successes, num_events)\n",
    "    \"\"\"\n",
    "    num_successes = 0\n",
    "    \n",
    "    for _ in range(num_events):\n",
    "        outcome = np.random.random()\n",
    "        if outcome < success_prob:\n",
    "            num_successes += 1\n",
    "    \n",
    "    return (num_successes, num_events)"
   ]
  },
  {
   "cell_type": "code",
   "execution_count": 6,
   "metadata": {},
   "outputs": [],
   "source": [
    "def run_binomial_simulation(num_trials, num_events_per_trial, success_prob):\n",
    "    \"\"\"\n",
    "    Arguments\n",
    "    =========\n",
    "    num_trials = number of trials to run\n",
    "    num_events_per_trial = the number of random events to do for each trial\n",
    "    success_prob = probability of success of any event\n",
    "    \n",
    "    Returns\n",
    "    =======\n",
    "    Returns a list of proportions (successes/events)\n",
    "    \"\"\"\n",
    "    proportions = []\n",
    "    \n",
    "    for _ in range(num_trials):\n",
    "        result = run_binomial_trial(num_events_per_trial, success_prob)\n",
    "        proportions.append(result[0] / float(result[1]))\n",
    "    \n",
    "    return proportions"
   ]
  },
  {
   "cell_type": "markdown",
   "metadata": {},
   "source": [
    "## Simulating Blaze Data"
   ]
  },
  {
   "cell_type": "markdown",
   "metadata": {},
   "source": [
    "### Speedrun Simulations"
   ]
  },
  {
   "cell_type": "code",
   "execution_count": 7,
   "metadata": {},
   "outputs": [],
   "source": [
    "num_trials = 500000\n",
    "\n",
    "# These match Dream's data from the 6 livestreams\n",
    "blaze_num_speedruns_per_trial = 33\n",
    "blaze_num_successes_needed2prob = {6: 4/float(27), 7: 13/float(27), 8: 10/float(27)}\n",
    "blaze_success_prob = 0.5\n",
    "num_blazes_dream_killed = 305\n",
    "blaze_death_prob = 6/float(305)"
   ]
  },
  {
   "cell_type": "code",
   "execution_count": 8,
   "metadata": {},
   "outputs": [],
   "source": [
    "blaze_speedrun_results = run_simulation(num_trials, blaze_num_speedruns_per_trial, blaze_num_successes_needed2prob, blaze_success_prob, blaze_death_prob)"
   ]
  },
  {
   "cell_type": "code",
   "execution_count": 9,
   "metadata": {},
   "outputs": [
    {
     "data": {
      "image/png": "[encoded data removed]",
      "text/plain": [
       "<Figure size 720x360 with 1 Axes>"
      ]
     },
     "metadata": {
      "needs_background": "light"
     },
     "output_type": "display_data"
    }
   ],
   "source": [
    "plt.figure(figsize=(10,5))\n",
    "plt.hist(blaze_speedrun_results, bins=25)\n",
    "plt.title(\"Distribution of Proportions of Blaze Rods Drops\", fontsize=21)\n",
    "plt.xlabel(\"Proportion of Blazes that Dropped Rods\", fontsize=18)\n",
    "plt.ylabel(\"Frequency\", fontsize=18)\n",
    "plt.show()"
   ]
  },
  {
   "cell_type": "code",
   "execution_count": 10,
   "metadata": {},
   "outputs": [
    {
     "data": {
      "text/html": [
       "<div>\n",
       "<style scoped>\n",
       "    .dataframe tbody tr th:only-of-type {\n",
       "        vertical-align: middle;\n",
       "    }\n",
       "\n",
       "    .dataframe tbody tr th {\n",
       "        vertical-align: top;\n",
       "    }\n",
       "\n",
       "    .dataframe thead th {\n",
       "        text-align: right;\n",
       "    }\n",
       "</style>\n",
       "<table border=\"1\" class=\"dataframe\">\n",
       "  <thead>\n",
       "    <tr style=\"text-align: right;\">\n",
       "      <th></th>\n",
       "      <th>0</th>\n",
       "    </tr>\n",
       "  </thead>\n",
       "  <tbody>\n",
       "    <tr>\n",
       "      <th>count</th>\n",
       "      <td>500000.000000</td>\n",
       "    </tr>\n",
       "    <tr>\n",
       "      <th>mean</th>\n",
       "      <td>0.500982</td>\n",
       "    </tr>\n",
       "    <tr>\n",
       "      <th>std</th>\n",
       "      <td>0.024640</td>\n",
       "    </tr>\n",
       "    <tr>\n",
       "      <th>min</th>\n",
       "      <td>0.384134</td>\n",
       "    </tr>\n",
       "    <tr>\n",
       "      <th>25%</th>\n",
       "      <td>0.484108</td>\n",
       "    </tr>\n",
       "    <tr>\n",
       "      <th>50%</th>\n",
       "      <td>0.500000</td>\n",
       "    </tr>\n",
       "    <tr>\n",
       "      <th>75%</th>\n",
       "      <td>0.517241</td>\n",
       "    </tr>\n",
       "    <tr>\n",
       "      <th>max</th>\n",
       "      <td>0.630682</td>\n",
       "    </tr>\n",
       "  </tbody>\n",
       "</table>\n",
       "</div>"
      ],
      "text/plain": [
       "                   0\n",
       "count  500000.000000\n",
       "mean        0.500982\n",
       "std         0.024640\n",
       "min         0.384134\n",
       "25%         0.484108\n",
       "50%         0.500000\n",
       "75%         0.517241\n",
       "max         0.630682"
      ]
     },
     "execution_count": 10,
     "metadata": {},
     "output_type": "execute_result"
    }
   ],
   "source": [
    "df_blaze_speedrun = pd.DataFrame(blaze_speedrun_results)\n",
    "df_blaze_speedrun.describe()"
   ]
  },
  {
   "cell_type": "markdown",
   "metadata": {},
   "source": [
    "### Binomial Simulations"
   ]
  },
  {
   "cell_type": "code",
   "execution_count": 11,
   "metadata": {},
   "outputs": [],
   "source": [
    "blaze_binomial_results = run_binomial_simulation(num_trials, num_blazes_dream_killed, 0.5)"
   ]
  },
  {
   "cell_type": "code",
   "execution_count": 27,
   "metadata": {},
   "outputs": [
    {
     "data": {
      "image/png": "[encoded data removed]",
      "text/plain": [
       "<Figure size 720x360 with 1 Axes>"
      ]
     },
     "metadata": {
      "needs_background": "light"
     },
     "output_type": "display_data"
    }
   ],
   "source": [
    "plt.figure(figsize=(10,5))\n",
    "plt.hist(blaze_speedrun_results, bins=28, color='blue', alpha=1.0, label='Speedrun')\n",
    "plt.hist(blaze_binomial_results, bins=28, color='red', alpha=0.5, label='Binomial')\n",
    "plt.title(\"Distribution of Proportions for Blaze Rod Drops\", fontsize=21)\n",
    "plt.xlabel(\"Proportion of Blazes that Dropped Rods\", fontsize=18)\n",
    "plt.ylabel(\"Frequency\", fontsize=18)\n",
    "plt.legend(fontsize=14)\n",
    "plt.show()"
   ]
  },
  {
   "cell_type": "code",
   "execution_count": 13,
   "metadata": {},
   "outputs": [
    {
     "data": {
      "text/html": [
       "<div>\n",
       "<style scoped>\n",
       "    .dataframe tbody tr th:only-of-type {\n",
       "        vertical-align: middle;\n",
       "    }\n",
       "\n",
       "    .dataframe tbody tr th {\n",
       "        vertical-align: top;\n",
       "    }\n",
       "\n",
       "    .dataframe thead th {\n",
       "        text-align: right;\n",
       "    }\n",
       "</style>\n",
       "<table border=\"1\" class=\"dataframe\">\n",
       "  <thead>\n",
       "    <tr style=\"text-align: right;\">\n",
       "      <th></th>\n",
       "      <th>0</th>\n",
       "    </tr>\n",
       "  </thead>\n",
       "  <tbody>\n",
       "    <tr>\n",
       "      <th>count</th>\n",
       "      <td>500000.000000</td>\n",
       "    </tr>\n",
       "    <tr>\n",
       "      <th>mean</th>\n",
       "      <td>0.500055</td>\n",
       "    </tr>\n",
       "    <tr>\n",
       "      <th>std</th>\n",
       "      <td>0.028624</td>\n",
       "    </tr>\n",
       "    <tr>\n",
       "      <th>min</th>\n",
       "      <td>0.370492</td>\n",
       "    </tr>\n",
       "    <tr>\n",
       "      <th>25%</th>\n",
       "      <td>0.481967</td>\n",
       "    </tr>\n",
       "    <tr>\n",
       "      <th>50%</th>\n",
       "      <td>0.501639</td>\n",
       "    </tr>\n",
       "    <tr>\n",
       "      <th>75%</th>\n",
       "      <td>0.518033</td>\n",
       "    </tr>\n",
       "    <tr>\n",
       "      <th>max</th>\n",
       "      <td>0.642623</td>\n",
       "    </tr>\n",
       "  </tbody>\n",
       "</table>\n",
       "</div>"
      ],
      "text/plain": [
       "                   0\n",
       "count  500000.000000\n",
       "mean        0.500055\n",
       "std         0.028624\n",
       "min         0.370492\n",
       "25%         0.481967\n",
       "50%         0.501639\n",
       "75%         0.518033\n",
       "max         0.642623"
      ]
     },
     "execution_count": 13,
     "metadata": {},
     "output_type": "execute_result"
    }
   ],
   "source": [
    "df_blaze_binomial = pd.DataFrame(blaze_binomial_results)\n",
    "df_blaze_binomial.describe()"
   ]
  },
  {
   "cell_type": "markdown",
   "metadata": {},
   "source": [
    "## Simulating Ender Pearl Data"
   ]
  },
  {
   "cell_type": "markdown",
   "metadata": {},
   "source": [
    "### Speedrun Simulations"
   ]
  },
  {
   "cell_type": "code",
   "execution_count": 14,
   "metadata": {},
   "outputs": [],
   "source": [
    "num_trials = 500000\n",
    "\n",
    "# These match Dream's data from the 6 livestreams\n",
    "ender_num_speedruns_per_trial = 33\n",
    "ender_num_successes_needed2prob = {2: 14/float(17), 3: 2/float(17), 5: 1/float(17)}\n",
    "ender_success_prob = 0.047\n",
    "num_ingots_dream_bartered = 262\n",
    "ender_death_prob = 5/float(num_ingots_dream_bartered)"
   ]
  },
  {
   "cell_type": "code",
   "execution_count": 15,
   "metadata": {},
   "outputs": [],
   "source": [
    "ender_speedrun_results = run_simulation(num_trials, ender_num_speedruns_per_trial, ender_num_successes_needed2prob, ender_success_prob, ender_death_prob)"
   ]
  },
  {
   "cell_type": "code",
   "execution_count": 16,
   "metadata": {},
   "outputs": [
    {
     "data": {
      "image/png": "[encoded data removed]",
      "text/plain": [
       "<Figure size 720x360 with 1 Axes>"
      ]
     },
     "metadata": {
      "needs_background": "light"
     },
     "output_type": "display_data"
    }
   ],
   "source": [
    "plt.figure(figsize=(10,5))\n",
    "plt.hist(ender_speedrun_results, bins=40)\n",
    "plt.title(\"Distribution of Proportions of Ender Pearl Barters\", fontsize=21)\n",
    "plt.xlabel(\"Proportion of Barters that Yielded Ender Pearls\", fontsize=18)\n",
    "plt.ylabel(\"Frequency\", fontsize=18)\n",
    "plt.show()"
   ]
  },
  {
   "cell_type": "code",
   "execution_count": 17,
   "metadata": {},
   "outputs": [
    {
     "data": {
      "text/html": [
       "<div>\n",
       "<style scoped>\n",
       "    .dataframe tbody tr th:only-of-type {\n",
       "        vertical-align: middle;\n",
       "    }\n",
       "\n",
       "    .dataframe tbody tr th {\n",
       "        vertical-align: top;\n",
       "    }\n",
       "\n",
       "    .dataframe thead th {\n",
       "        text-align: right;\n",
       "    }\n",
       "</style>\n",
       "<table border=\"1\" class=\"dataframe\">\n",
       "  <thead>\n",
       "    <tr style=\"text-align: right;\">\n",
       "      <th></th>\n",
       "      <th>0</th>\n",
       "    </tr>\n",
       "  </thead>\n",
       "  <tbody>\n",
       "    <tr>\n",
       "      <th>count</th>\n",
       "      <td>500000.000000</td>\n",
       "    </tr>\n",
       "    <tr>\n",
       "      <th>mean</th>\n",
       "      <td>0.047547</td>\n",
       "    </tr>\n",
       "    <tr>\n",
       "      <th>std</th>\n",
       "      <td>0.007126</td>\n",
       "    </tr>\n",
       "    <tr>\n",
       "      <th>min</th>\n",
       "      <td>0.021641</td>\n",
       "    </tr>\n",
       "    <tr>\n",
       "      <th>25%</th>\n",
       "      <td>0.042576</td>\n",
       "    </tr>\n",
       "    <tr>\n",
       "      <th>50%</th>\n",
       "      <td>0.047101</td>\n",
       "    </tr>\n",
       "    <tr>\n",
       "      <th>75%</th>\n",
       "      <td>0.052023</td>\n",
       "    </tr>\n",
       "    <tr>\n",
       "      <th>max</th>\n",
       "      <td>0.093682</td>\n",
       "    </tr>\n",
       "  </tbody>\n",
       "</table>\n",
       "</div>"
      ],
      "text/plain": [
       "                   0\n",
       "count  500000.000000\n",
       "mean        0.047547\n",
       "std         0.007126\n",
       "min         0.021641\n",
       "25%         0.042576\n",
       "50%         0.047101\n",
       "75%         0.052023\n",
       "max         0.093682"
      ]
     },
     "execution_count": 17,
     "metadata": {},
     "output_type": "execute_result"
    }
   ],
   "source": [
    "df_ender_speedrun = pd.DataFrame(ender_speedrun_results)\n",
    "df_ender_speedrun.describe()"
   ]
  },
  {
   "cell_type": "markdown",
   "metadata": {},
   "source": [
    "### Binomial Simulations"
   ]
  },
  {
   "cell_type": "code",
   "execution_count": 18,
   "metadata": {},
   "outputs": [],
   "source": [
    "ender_binomial_results = run_binomial_simulation(num_trials, num_ingots_dream_bartered, 0.047)"
   ]
  },
  {
   "cell_type": "code",
   "execution_count": 25,
   "metadata": {},
   "outputs": [
    {
     "data": {
      "image/png": "[encoded data removed]",
      "text/plain": [
       "<Figure size 720x360 with 1 Axes>"
      ]
     },
     "metadata": {
      "needs_background": "light"
     },
     "output_type": "display_data"
    }
   ],
   "source": [
    "plt.figure(figsize=(10,5))\n",
    "plt.hist(ender_speedrun_results, bins=28, color='blue', alpha=1.0, label='Speedrun')\n",
    "plt.hist(ender_binomial_results, bins=28, color='red', alpha=0.5, label='Binomial')\n",
    "plt.title(\"Distribution of Proportions for Ender Pearl Barters\", fontsize=21)\n",
    "plt.xlabel(\"Proportion of Barters that Yielded Ender Pearls\", fontsize=18)\n",
    "plt.ylabel(\"Frequency\", fontsize=18)\n",
    "plt.legend(fontsize=14)\n",
    "plt.show()"
   ]
  },
  {
   "cell_type": "code",
   "execution_count": 20,
   "metadata": {},
   "outputs": [
    {
     "data": {
      "text/html": [
       "<div>\n",
       "<style scoped>\n",
       "    .dataframe tbody tr th:only-of-type {\n",
       "        vertical-align: middle;\n",
       "    }\n",
       "\n",
       "    .dataframe tbody tr th {\n",
       "        vertical-align: top;\n",
       "    }\n",
       "\n",
       "    .dataframe thead th {\n",
       "        text-align: right;\n",
       "    }\n",
       "</style>\n",
       "<table border=\"1\" class=\"dataframe\">\n",
       "  <thead>\n",
       "    <tr style=\"text-align: right;\">\n",
       "      <th></th>\n",
       "      <th>0</th>\n",
       "    </tr>\n",
       "  </thead>\n",
       "  <tbody>\n",
       "    <tr>\n",
       "      <th>count</th>\n",
       "      <td>500000.000000</td>\n",
       "    </tr>\n",
       "    <tr>\n",
       "      <th>mean</th>\n",
       "      <td>0.047005</td>\n",
       "    </tr>\n",
       "    <tr>\n",
       "      <th>std</th>\n",
       "      <td>0.013071</td>\n",
       "    </tr>\n",
       "    <tr>\n",
       "      <th>min</th>\n",
       "      <td>0.000000</td>\n",
       "    </tr>\n",
       "    <tr>\n",
       "      <th>25%</th>\n",
       "      <td>0.038168</td>\n",
       "    </tr>\n",
       "    <tr>\n",
       "      <th>50%</th>\n",
       "      <td>0.045802</td>\n",
       "    </tr>\n",
       "    <tr>\n",
       "      <th>75%</th>\n",
       "      <td>0.057252</td>\n",
       "    </tr>\n",
       "    <tr>\n",
       "      <th>max</th>\n",
       "      <td>0.110687</td>\n",
       "    </tr>\n",
       "  </tbody>\n",
       "</table>\n",
       "</div>"
      ],
      "text/plain": [
       "                   0\n",
       "count  500000.000000\n",
       "mean        0.047005\n",
       "std         0.013071\n",
       "min         0.000000\n",
       "25%         0.038168\n",
       "50%         0.045802\n",
       "75%         0.057252\n",
       "max         0.110687"
      ]
     },
     "execution_count": 20,
     "metadata": {},
     "output_type": "execute_result"
    }
   ],
   "source": [
    "df_ender_binomial = pd.DataFrame(ender_binomial_results)\n",
    "df_ender_binomial.describe()"
   ]
  },
  {
   "cell_type": "markdown",
   "metadata": {},
   "source": [
    "# Analysis\n",
    "For blaze rods, the distributions are almost the same. The binomial distribution is slightly wider.  For ender pearl barters, the binomial distribution has a much bigger tail.  This indicates that using the binomial distribution makes Dream look less guilty, if anything. If we did a bigger simulation of the speedrunning distribution and tried to calculate how lucky Dream was, his luck would look even more unlikely than it does with the binomial distribution."
   ]
  }
 ],
 "metadata": {
  "kernelspec": {
   "display_name": "Python 3",
   "language": "python",
   "name": "python3"
  },
  "language_info": {
   "codemirror_mode": {
    "name": "ipython",
    "version": 3
   },
   "file_extension": ".py",
   "mimetype": "text/x-python",
   "name": "python",
   "nbconvert_exporter": "python",
   "pygments_lexer": "ipython3",
   "version": "3.8.3"
  }
 },
 "nbformat": 4,
 "nbformat_minor": 4
}
