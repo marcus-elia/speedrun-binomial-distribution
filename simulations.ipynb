{
 "cells": [
  {
   "cell_type": "markdown",
   "metadata": {},
   "source": [
    "#### Import Statements"
   ]
  },
  {
   "cell_type": "code",
   "execution_count": 18,
   "metadata": {},
   "outputs": [],
   "source": [
    "import numpy as np\n",
    "import matplotlib.pyplot as plt\n",
    "import pandas as pd"
   ]
  },
  {
   "cell_type": "markdown",
   "metadata": {},
   "source": [
    "## Functions to Perform Simulations"
   ]
  },
  {
   "cell_type": "markdown",
   "metadata": {},
   "source": [
    "### Simulating Minecraft Speedruns"
   ]
  },
  {
   "cell_type": "code",
   "execution_count": 2,
   "metadata": {},
   "outputs": [],
   "source": [
    "# Helper functions for run_trial()\n",
    "def choose_random_num_successes_needed(num_successes_needed2prob):\n",
    "    r = np.random.random()\n",
    "    current_prob = 0\n",
    "    for n in num_successes_needed2prob:\n",
    "        current_prob += num_successes_needed2prob[n]\n",
    "        if r < current_prob:\n",
    "            return n\n",
    "    raise ValueError(\"Did not select a num_successes_needed\")"
   ]
  },
  {
   "cell_type": "code",
   "execution_count": 35,
   "metadata": {},
   "outputs": [],
   "source": [
    "def run_trial(num_speedruns, num_successes_needed2prob, success_prob, death_prob):\n",
    "    \"\"\"\n",
    "    Arguments\n",
    "    =========\n",
    "    num_speedruns = how many speedruns are performed for this trial\n",
    "    num_successes_needed2prob = a dictionary mapping the number of successes needed to finish a speedrun\n",
    "                                to the probability of that number being the one used on a speedrun\n",
    "    success_prob = the probability of success for a single outcome\n",
    "    death_prob = the probability of dying after each event\n",
    "    \n",
    "    Returns\n",
    "    =======\n",
    "    Returns a tuple (num_successes, num_events)\n",
    "    \"\"\"\n",
    "    total_num_successes = 0\n",
    "    total_num_events = 0\n",
    "    \n",
    "    # Make sure the probabilities of the num_successes_needed adds to 1\n",
    "    if np.abs(sum(num_successes_needed2prob.values()) - 1) > 0.01:\n",
    "        raise ValueError(\"Probabilities of num_successes_needed do not sum to 1\")\n",
    "    \n",
    "    for _ in range(num_speedruns):\n",
    "        k = choose_random_num_successes_needed(num_successes_needed2prob)\n",
    "        num_successes = 0\n",
    "        num_events = 0\n",
    "        \n",
    "        # Perform the event until k successes happen\n",
    "        while num_successes < k:\n",
    "            outcome = np.random.random()\n",
    "            if outcome < success_prob:\n",
    "                num_successes += 1\n",
    "            num_events += 1\n",
    "            \n",
    "            # If the player dies, stop early\n",
    "            possible_death = np.random.random()\n",
    "            if possible_death < death_prob:\n",
    "                break\n",
    "        \n",
    "        total_num_successes += num_successes\n",
    "        total_num_events += num_events\n",
    "    \n",
    "    return (total_num_successes, total_num_events)"
   ]
  },
  {
   "cell_type": "code",
   "execution_count": 11,
   "metadata": {},
   "outputs": [],
   "source": [
    "def run_simulation(num_trials, num_speedruns_per_trial, num_successes_needed2prob, success_prob, death_prob):\n",
    "    \"\"\"\n",
    "    Arguments\n",
    "    =========\n",
    "    num_trials = total number of trials to do\n",
    "    num_speedruns_per_trial = how many speedruns are performed for each trial\n",
    "    num_successes_needed2prob = a dictionary mapping the number of successes needed to finish a speedrun\n",
    "                                to the probability of that number being the one used on a speedrun\n",
    "    success_prob = the probability of success for a single outcome\n",
    "    death_prob = the probability of dying after each event\n",
    "    \n",
    "    Returns\n",
    "    =======\n",
    "    Returns a list of proportions (successes/events)\n",
    "    \"\"\"\n",
    "    proportions = []\n",
    "    for _ in range(num_trials):\n",
    "        result = run_trial(num_speedruns_per_trial, num_successes_needed2prob, success_prob, death_prob)\n",
    "        proportion = result[0] / float(result[1])\n",
    "        proportions.append(proportion)\n",
    "    \n",
    "    return proportions"
   ]
  },
  {
   "cell_type": "markdown",
   "metadata": {},
   "source": [
    "### Binomial Distribution Simulations"
   ]
  },
  {
   "cell_type": "code",
   "execution_count": 34,
   "metadata": {},
   "outputs": [],
   "source": [
    "def run_binomial_trial(num_events, success_prob):\n",
    "    \"\"\"\n",
    "    Arguments\n",
    "    =========\n",
    "    num_events = the number of random events to do\n",
    "    success_prob = probability of success of any event\n",
    "    \n",
    "    Returns\n",
    "    =======\n",
    "    Returns tuple (num_successes, num_events)\n",
    "    \"\"\"\n",
    "    num_successes = 0\n",
    "    \n",
    "    for _ in range(num_events):\n",
    "        outcome = np.random.random()\n",
    "        if outcome < success_prob:\n",
    "            num_successes += 1\n",
    "    \n",
    "    return (num_successes, num_events)"
   ]
  },
  {
   "cell_type": "code",
   "execution_count": 36,
   "metadata": {},
   "outputs": [],
   "source": [
    "def run_binomial_simulation(num_trials, num_events_per_trial, success_prob):\n",
    "    \"\"\"\n",
    "    Arguments\n",
    "    =========\n",
    "    num_trials = number of trials to run\n",
    "    num_events_per_trial = the number of random events to do for each trial\n",
    "    success_prob = probability of success of any event\n",
    "    \n",
    "    Returns\n",
    "    =======\n",
    "    Returns a list of proportions (successes/events)\n",
    "    \"\"\"\n",
    "    proportions = []\n",
    "    \n",
    "    for _ in range(num_trials):\n",
    "        result = run_binomial_trial(num_events_per_trial, success_prob)\n",
    "        proportions.append(result[0] / float(result[1]))\n",
    "    \n",
    "    return proportions"
   ]
  },
  {
   "cell_type": "markdown",
   "metadata": {},
   "source": [
    "## Simulating Blaze Data"
   ]
  },
  {
   "cell_type": "markdown",
   "metadata": {},
   "source": [
    "### Speedrun Simulations"
   ]
  },
  {
   "cell_type": "code",
   "execution_count": 28,
   "metadata": {},
   "outputs": [],
   "source": [
    "num_trials = 100000\n",
    "\n",
    "# These match Dream's data from the 6 livestreams\n",
    "num_speedruns_per_trial = 33\n",
    "num_successes_needed2prob = {6: 4/float(27), 7: 13/float(27), 8: 10/float(27)}\n",
    "success_prob = 0.5\n",
    "death_prob = 6/float(33)"
   ]
  },
  {
   "cell_type": "code",
   "execution_count": 29,
   "metadata": {},
   "outputs": [],
   "source": [
    "results = run_simulation(num_trials, num_speedruns_per_trial, num_successes_needed2prob, success_prob, death_prob)"
   ]
  },
  {
   "cell_type": "code",
   "execution_count": 33,
   "metadata": {},
   "outputs": [
    {
     "data": {
      "text/plain": [
       "Text(0, 0.5, 'Frequency')"
      ]
     },
     "execution_count": 33,
     "metadata": {},
     "output_type": "execute_result"
    },
    {
     "data": {
      "image/png": "[encoded data removed]",
      "text/plain": [
       "<Figure size 720x360 with 1 Axes>"
      ]
     },
     "metadata": {
      "needs_background": "light"
     },
     "output_type": "display_data"
    }
   ],
   "source": [
    "plt.figure(figsize=(10,5))\n",
    "plt.hist(results, bins=40)\n",
    "plt.title(\"Distribution of Proportions\", fontsize=21)\n",
    "plt.xlabel(\"Percent of Blazes that Dropped Rods\", fontsize=18)\n",
    "plt.ylabel(\"Frequency\", fontsize=18)"
   ]
  },
  {
   "cell_type": "code",
   "execution_count": 31,
   "metadata": {},
   "outputs": [
    {
     "data": {
      "text/html": [
       "<div>\n",
       "<style scoped>\n",
       "    .dataframe tbody tr th:only-of-type {\n",
       "        vertical-align: middle;\n",
       "    }\n",
       "\n",
       "    .dataframe tbody tr th {\n",
       "        vertical-align: top;\n",
       "    }\n",
       "\n",
       "    .dataframe thead th {\n",
       "        text-align: right;\n",
       "    }\n",
       "</style>\n",
       "<table border=\"1\" class=\"dataframe\">\n",
       "  <thead>\n",
       "    <tr style=\"text-align: right;\">\n",
       "      <th></th>\n",
       "      <th>0</th>\n",
       "    </tr>\n",
       "  </thead>\n",
       "  <tbody>\n",
       "    <tr>\n",
       "      <th>count</th>\n",
       "      <td>100000.000000</td>\n",
       "    </tr>\n",
       "    <tr>\n",
       "      <th>mean</th>\n",
       "      <td>0.500364</td>\n",
       "    </tr>\n",
       "    <tr>\n",
       "      <th>std</th>\n",
       "      <td>0.038780</td>\n",
       "    </tr>\n",
       "    <tr>\n",
       "      <th>min</th>\n",
       "      <td>0.333333</td>\n",
       "    </tr>\n",
       "    <tr>\n",
       "      <th>25%</th>\n",
       "      <td>0.474286</td>\n",
       "    </tr>\n",
       "    <tr>\n",
       "      <th>50%</th>\n",
       "      <td>0.500000</td>\n",
       "    </tr>\n",
       "    <tr>\n",
       "      <th>75%</th>\n",
       "      <td>0.526316</td>\n",
       "    </tr>\n",
       "    <tr>\n",
       "      <th>max</th>\n",
       "      <td>0.676829</td>\n",
       "    </tr>\n",
       "  </tbody>\n",
       "</table>\n",
       "</div>"
      ],
      "text/plain": [
       "                   0\n",
       "count  100000.000000\n",
       "mean        0.500364\n",
       "std         0.038780\n",
       "min         0.333333\n",
       "25%         0.474286\n",
       "50%         0.500000\n",
       "75%         0.526316\n",
       "max         0.676829"
      ]
     },
     "execution_count": 31,
     "metadata": {},
     "output_type": "execute_result"
    }
   ],
   "source": [
    "df_describe = pd.DataFrame(results)\n",
    "df_describe.describe()"
   ]
  },
  {
   "cell_type": "markdown",
   "metadata": {},
   "source": [
    "### Binomial Simulations"
   ]
  },
  {
   "cell_type": "code",
   "execution_count": 37,
   "metadata": {},
   "outputs": [],
   "source": [
    "binomial_results = run_binomial_simulation(num_trials, 305, 0.5)"
   ]
  },
  {
   "cell_type": "code",
   "execution_count": 46,
   "metadata": {},
   "outputs": [
    {
     "data": {
      "image/png": "[encoded data removed]",
      "text/plain": [
       "<Figure size 720x360 with 1 Axes>"
      ]
     },
     "metadata": {
      "needs_background": "light"
     },
     "output_type": "display_data"
    }
   ],
   "source": [
    "plt.figure(figsize=(10,5))\n",
    "plt.hist(results, bins=40, color='blue', alpha=1.0, label='Speedrun')\n",
    "plt.hist(binomial_results, bins=40, color='red', alpha=0.5, label='Binomial')\n",
    "plt.title(\"Distribution of Proportions\", fontsize=21)\n",
    "plt.xlabel(\"Percent of Blazes that Dropped Rods\", fontsize=18)\n",
    "plt.ylabel(\"Frequency\", fontsize=18)\n",
    "plt.legend(fontsize=14)\n",
    "plt.show()"
   ]
  },
  {
   "cell_type": "code",
   "execution_count": null,
   "metadata": {},
   "outputs": [],
   "source": [
    "df_describe = pd.DataFrame(results)\n",
    "df_describe.describe()"
   ]
  }
 ],
 "metadata": {
  "kernelspec": {
   "display_name": "Python 3",
   "language": "python",
   "name": "python3"
  },
  "language_info": {
   "codemirror_mode": {
    "name": "ipython",
    "version": 3
   },
   "file_extension": ".py",
   "mimetype": "text/x-python",
   "name": "python",
   "nbconvert_exporter": "python",
   "pygments_lexer": "ipython3",
   "version": "3.8.3"
  }
 },
 "nbformat": 4,
 "nbformat_minor": 4
}
